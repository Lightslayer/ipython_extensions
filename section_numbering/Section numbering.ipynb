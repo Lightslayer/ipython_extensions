{
 "metadata": {
  "name": ""
 },
 "nbformat": 3,
 "nbformat_minor": 0,
 "worksheets": [
  {
   "cells": [
    {
     "cell_type": "code",
     "collapsed": false,
     "input": [
      "#%install_ext https://raw.github.com/dpsanders/ipython_extensions/master/section_numbering/secnum.py"
     ],
     "language": "python",
     "metadata": {},
     "outputs": [],
     "prompt_number": 1
    },
    {
     "cell_type": "code",
     "collapsed": false,
     "input": [
      "%update_secnum"
     ],
     "language": "python",
     "metadata": {},
     "outputs": [
      {
       "output_type": "stream",
       "stream": "stdout",
       "text": [
        "Downloading https://raw.github.com/dpsanders/ipython_extensions/master/section_numbering/secnum.py to /Users/dsanders/.ipython/extensions/secnum.py\n",
        "Downloading https://raw.github.com/dpsanders/ipython_extensions/master/section_numbering/secnum.js to /Users/dsanders/.ipython/extensions/secnum.js"
       ]
      },
      {
       "output_type": "stream",
       "stream": "stdout",
       "text": [
        "\n"
       ]
      }
     ],
     "prompt_number": 2
    },
    {
     "cell_type": "code",
     "collapsed": false,
     "input": [
      "%reload_ext secnum"
     ],
     "language": "python",
     "metadata": {},
     "outputs": [],
     "prompt_number": 7
    },
    {
     "cell_type": "code",
     "collapsed": false,
     "input": [
      "%load_ext secnum\n",
      "\n"
     ],
     "language": "python",
     "metadata": {},
     "outputs": [],
     "prompt_number": 1
    },
    {
     "cell_type": "code",
     "collapsed": false,
     "input": [
      "%secnum"
     ],
     "language": "python",
     "metadata": {},
     "outputs": [
      {
       "javascript": [
        "console.log(\"Section numbering...\");\n",
        "\n",
        "function number_sections(threshold) {\n",
        "\n",
        "  var h1_number = 0;\n",
        "  var h2_number = 0;\n",
        "\n",
        "  if (threshold === undefined) {\n",
        "    threshold = 2;  // does nothing so far\n",
        "  }\n",
        "\n",
        "  var cells = IPython.notebook.get_cells();\n",
        "  \n",
        "  for (var i=0; i < cells.length; i++) {\n",
        "\n",
        "    var cell = cells[i];\n",
        "    if (cell.cell_type !== 'heading') continue;\n",
        "    \n",
        "    var level = cell.level;\n",
        "    if (level > threshold) continue;\n",
        "    \n",
        "    if (level === 1) {\n",
        "        \n",
        "        h1_number ++;\n",
        "        var h1_element = cell.element.find('h1');\n",
        "        var h1_html = h1_element.html();\n",
        "        \n",
        "        console.log(\"h1_html: \" + h1_html);\n",
        "\n",
        "        var pattern = /^[0-9]+\\./;  \n",
        "        // section number at start of string\n",
        "        \n",
        "        var result = pattern.exec(h1_html);\n",
        "        \n",
        "        h1_html = h1_html.replace(result, \"\");\n",
        "        h1_element.html(h1_number + \". \" + h1_html);\n",
        "        \n",
        "        h2_number = 0;\n",
        "        \n",
        "    }\n",
        "    \n",
        "    if (level === 2) {\n",
        "    \n",
        "        h2_number ++;\n",
        "        \n",
        "        var h2_element = cell.element.find('h2');\n",
        "        var h2_html = h2_element.html();\n",
        "        \n",
        "        var pattern = /^[0-9]+\\.[0-9]+\\./;\n",
        "        var result = pattern.exec(h2_html);\n",
        "       \n",
        "        h2_html = h2_html.replace(result, \"\");\n",
        "        h2_element.html(h1_number + \".\" + h2_number + \". \" + h2_html);\n",
        "        \n",
        "    }\n",
        "    \n",
        "  }\n",
        "  \n",
        "}\n",
        "\n",
        "number_sections();\n",
        "\n",
        "// $([IPython.events]).on('create.Cell', number_sections);\n",
        "\n",
        "$([IPython.events]).on('selected_cell_type_changed.Notebook', number_sections);\n",
        "\n"
       ],
       "metadata": {},
       "output_type": "display_data"
      }
     ],
     "prompt_number": 5
    },
    {
     "cell_type": "heading",
     "level": 2,
     "metadata": {},
     "source": []
    },
    {
     "cell_type": "heading",
     "level": 1,
     "metadata": {},
     "source": []
    },
    {
     "cell_type": "heading",
     "level": 2,
     "metadata": {},
     "source": [
      "Hola"
     ]
    },
    {
     "cell_type": "heading",
     "level": 1,
     "metadata": {},
     "source": []
    },
    {
     "cell_type": "heading",
     "level": 2,
     "metadata": {},
     "source": []
    },
    {
     "cell_type": "heading",
     "level": 1,
     "metadata": {},
     "source": []
    }
   ],
   "metadata": {}
  }
 ]
}