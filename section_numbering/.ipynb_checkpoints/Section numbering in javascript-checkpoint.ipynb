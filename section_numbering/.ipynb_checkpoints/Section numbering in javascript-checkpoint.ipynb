{
 "metadata": {
  "name": ""
 },
 "nbformat": 3,
 "nbformat_minor": 0,
 "worksheets": [
  {
   "cells": [
    {
     "cell_type": "heading",
     "level": 1,
     "metadata": {},
     "source": [
      "First"
     ]
    },
    {
     "cell_type": "heading",
     "level": 2,
     "metadata": {},
     "source": [
      "Second"
     ]
    },
    {
     "cell_type": "heading",
     "level": 2,
     "metadata": {},
     "source": [
      "Third"
     ]
    },
    {
     "cell_type": "heading",
     "level": 1,
     "metadata": {},
     "source": [
      "Fourth\n"
     ]
    },
    {
     "cell_type": "heading",
     "level": 2,
     "metadata": {},
     "source": [
      "Fifth"
     ]
    },
    {
     "cell_type": "markdown",
     "metadata": {},
     "source": [
      "Javascript in here\n",
      "\n",
      "<script>\n",
      "console.log(\"Section numbering...\")\n",
      "\n",
      "function number_sections(threshold) {\n",
      "\n",
      "  var h1_number = 0;\n",
      "  var h2_number = 0;\n",
      "\n",
      "  if (threshold === undefined) {\n",
      "    threshold = 4;\n",
      "  }\n",
      "\n",
      "  var cells = IPython.notebook.get_cells();\n",
      "  \n",
      "  for (var i=0; i < cells.length; i++) {\n",
      "    var cell = cells[i];\n",
      "    \n",
      "    if (cell.cell_type !== 'heading') continue;\n",
      "    \n",
      "    var level = cell.level;\n",
      "        \n",
      "    if (level > threshold) continue;\n",
      "    \n",
      "    if (level === 1) {\n",
      "        \n",
      "        h1_number ++;\n",
      "        var h1_element = cell.element.find('h1');\n",
      "        var h1_html = h1_element.html();\n",
      "        \n",
      "        console.log(\"h1_html: \" + h1_html);\n",
      "\n",
      "        pattern = /^[0-9]+./;  // number at start of string\n",
      "        var result = pattern.exec(h1_html);\n",
      "        \n",
      "        //console.log(\"Result: \" + result);\n",
      "\n",
      "        h1_html = h1_html.replace(result, \"\");\n",
      "        h1_element.html(h1_number + \". \" + h1_html);\n",
      "        \n",
      "        h2_number = 0;\n",
      "        \n",
      "    }\n",
      "    \n",
      "    if (level === 2) {\n",
      "    \n",
      "        h2_number ++;\n",
      "        \n",
      "        var h2_element = cell.element.find('h2');\n",
      "        var h2_html = h2_element.html();\n",
      "        \n",
      "        pattern = /^[0-9]+.[0-9]+./;  // number at start of string\n",
      "        var result = pattern.exec(h2_html);\n",
      "       \n",
      "        h2_html = h2_html.replace(result, \"\");\n",
      "        h2_element.html(h1_number + \".\" + h2_number + \". \" + h2_html);\n",
      "        \n",
      "    }\n",
      "    \n",
      "    \n",
      "    \n",
      "    \n",
      "  }\n",
      "  \n",
      "}\n",
      "\n",
      "// $(document).ready(number_sections() );\n",
      "\n",
      "number_sections();\n",
      "\n",
      "// $(document).ready( number_sections() );\n",
      "\n",
      "</script>"
     ]
    },
    {
     "cell_type": "code",
     "collapsed": false,
     "input": [],
     "language": "python",
     "metadata": {},
     "outputs": []
    },
    {
     "cell_type": "code",
     "collapsed": false,
     "input": [],
     "language": "python",
     "metadata": {},
     "outputs": []
    }
   ],
   "metadata": {}
  }
 ]
}